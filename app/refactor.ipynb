{
 "cells": [
  {
   "cell_type": "code",
   "execution_count": 1,
   "metadata": {},
   "outputs": [],
   "source": [
    "import networkx as nx \n",
    "import msgspec\n",
    "from util import *\n",
    "from qng import * \n",
    "# from business_class import *\n",
    "from ipysigma import Sigma\n",
    "# from address_util import *\n",
    "import json\n",
    "import duckdb as d\n",
    "import pandas as pd "
   ]
  },
  {
   "cell_type": "code",
   "execution_count": 3,
   "metadata": {},
   "outputs": [],
   "source": [
    "duck = d.connect('deseguys.duckdb', read_only=True)"
   ]
  },
  {
   "cell_type": "code",
   "execution_count": 5,
   "metadata": {},
   "outputs": [],
   "source": [
    "sql = \"\"\" \n",
    "SELECT DISTINCT name FROM entities WHERE entity_type = 'company' and is_primary = 1\n",
    "\"\"\"\n",
    "company_names = duck.sql(sql).fetchall()"
   ]
  },
  {
   "cell_type": "code",
   "execution_count": 8,
   "metadata": {},
   "outputs": [],
   "source": [
    "address_names = [] \n",
    "counter = 0 \n",
    "\n",
    "for c in company_names:\n",
    "    cn = c[0]\n",
    "    clean = clean_street(cn)\n",
    "    if clean != cn: \n",
    "        address_names.append(cn) \n",
    "        # print(cn) \n",
    "    # counter += 1\n",
    "    # if counter == 1000:\n",
    "        # break"
   ]
  },
  {
   "cell_type": "code",
   "execution_count": null,
   "metadata": {},
   "outputs": [],
   "source": [
    "# sql = f\"\"\"\n",
    "#                 SELECT DISTINCT \n",
    "#                     e.*, \n",
    "#                     pri.name as link_to, \n",
    "#                     pri.entity_type as primary_type\n",
    "#                 FROM \n",
    "#                     entities e \n",
    "#                 JOIN \n",
    "#                     entities pri \n",
    "#                 ON \n",
    "#                     e.index_type = pri.index_type\n",
    "#                     AND e.index_value = pri.index_value\n",
    "#                     AND pri.is_primary = 1\n",
    "#                 WHERE \n",
    "#                     pri.entity_type = 'committee'\n",
    "#                     AND pri.name like '{name}'\n",
    "#                     ORDER BY e.entity_type asc\n",
    "#     \"\"\"\n",
    "# name = \"FRIENDS OF GEORGE %CARDENAS\" \n",
    "# sql = base_sql + f\" AND pri.name like '{name}' ORDER BY e.entity_type asc;\"\n",
    "# len(duck.execute(sql).fetchall())"
   ]
  },
  {
   "cell_type": "code",
   "execution_count": null,
   "metadata": {},
   "outputs": [],
   "source": [
    "# duck.sql(\"\"\"\n",
    "# SET @test = (SELECT max(id) FROM entities WHERE is_primary=1 AND name like 'FRIENDS OF GEORGE %CARDENAS' and entity_type == 'committee');\")"
   ]
  },
  {
   "cell_type": "code",
   "execution_count": 2,
   "metadata": {},
   "outputs": [],
   "source": [
    "def load_schema(filename:str):\n",
    "    with open(filename, 'r') as f:\n",
    "        schema = msgspec.json.decode(f.read(), type=GraphSchema)\n",
    "    return schema\n",
    "\n",
    "def load_graph(filename:str):\n",
    "     with open(filename, 'r') as f:\n",
    "        return msgspec.json.decode(f.read(), type=QNG)\n",
    "    \n",
    "def save_graph(filename:str, graph): \n",
    "    with open(filename, 'wb') as f:\n",
    "        f.write(graph)"
   ]
  },
  {
   "cell_type": "code",
   "execution_count": 3,
   "metadata": {},
   "outputs": [],
   "source": [
    "graph_schema = load_schema('graph_schemas/entity.qngs')\n",
    "graph_factory = GraphFactory(\n",
    "    node_factories= list(dict(graph_schema.node_factories).values()), \n",
    "    link_factories= graph_schema.link_factories\n",
    ")\n",
    "\n",
    "\n",
    "G = nx.MultiDiGraph()\n",
    "# G = graph_entities(G, graph_factory, entities, [])"
   ]
  },
  {
   "cell_type": "code",
   "execution_count": null,
   "metadata": {},
   "outputs": [],
   "source": [
    "\n",
    "G = load_graph('/Users/AnthonyMoser/Dev/public_data_tools/shiny/deseguys/app/quick_network_graph(37).qng').multigraph()"
   ]
  },
  {
   "cell_type": "code",
   "execution_count": null,
   "metadata": {},
   "outputs": [],
   "source": [
    "def expand_nodes(G, nodes:list, search_types: list = ['companies', 'contracts', 'campaigns'], already_imported:list = [])->dict:\n",
    "    entity_types = {\n",
    "        \"companies\": [\"company\"],\n",
    "        \"contracts\": [\"contract\"], \n",
    "        \"campaigns\": [\"committee\", \"donor\"]\n",
    "    }\n",
    "    included_types = []\n",
    "    for st in search_types:\n",
    "        included_types.extend(entity_types[st])\n",
    "    included_types = f\"{str(included_types)[1:-1]}\"\n",
    "    \n",
    "    streets = [] \n",
    "    names = []\n",
    "    companies = []\n",
    "    for n in nodes:\n",
    "        try:\n",
    "            match G.nodes(data=\"type\")[n]:\n",
    "                case \"address\":\n",
    "                    streets.append(n)\n",
    "                case \"company\": \n",
    "                    companies.append(f\"{G.nodes[n]['index_type']}-{G.nodes[n]['index_value']}\") \n",
    "                case \"committee\": \n",
    "                    pass \n",
    "                case _: \n",
    "                    names.append(n) \n",
    "            \n",
    "        except Exception as e:\n",
    "            print(e)\n",
    "            print(n)\n",
    "            print(G.nodes(n))\n",
    "            continue\n",
    "    sf = pd.DataFrame(data = streets, columns=['street']).drop_duplicates()\n",
    "    nf = pd.DataFrame(data = names, columns = [\"name\"]).drop_duplicates()\n",
    "    cf = pd.DataFrame(data = companies, columns = [\"idx\"]).drop_duplicates()\n",
    "    aie = pd.DataFrame(data = already_imported, columns = [\"already_imported\"])\n",
    "    \n",
    "    results = duck.sql(f\"\"\" \n",
    "        SELECT  \n",
    "            e.*, \n",
    "            pri.name as link_to, \n",
    "            pri.entity_type as primary_type \n",
    "        FROM \n",
    "            entities e\n",
    "        JOIN \n",
    "            entities pri \n",
    "        ON \n",
    "            e.index_type = pri.index_type\n",
    "            AND e.index_value = pri.index_value\n",
    "            AND pri.is_primary = 1\n",
    "        WHERE\n",
    "            pri.entity_type IN ({included_types})\n",
    "            AND e.id not in (SELECT already_imported FROM aie) \n",
    "            AND (\n",
    "                e.name in (SELECT name FROM nf) \n",
    "                OR e.street IN (SELECT street FROM ef)\n",
    "                OR CONCAT(e.index_type, '-', e.index_value) IN (SELECT idx FROM cf)\n",
    "            )\n",
    "    \"\"\").fetchall()\n",
    "    entities = {}\n",
    "    for r in results:\n",
    "        e = Entity(*r)\n",
    "        entities[e.id] = e \n",
    "    return entities"
   ]
  },
  {
   "cell_type": "code",
   "execution_count": null,
   "metadata": {},
   "outputs": [],
   "source": [
    "def get_entities_by_indexes(index_type: str, index_values :list, is_primary = 0):\n",
    "    results = duck.sql(f\"\"\"\n",
    "        SELECT \n",
    "            e.*, \n",
    "            pri.name as link_to, \n",
    "            pri.entity_type as primary_type\n",
    "        FROM \n",
    "            entities e \n",
    "        JOIN \n",
    "            entities pri \n",
    "        ON \n",
    "            e.index_type = pri.index_type\n",
    "            AND e.index_value = pri.index_value\n",
    "            AND pri.is_primary = 1\n",
    "        WHERE \n",
    "            e.index_type = '{index_type}'\n",
    "            AND e.index_value in ({str(index_values)[1:-1]})\n",
    "            AND e.is_primary = {is_primary}\n",
    "        \"\"\"\n",
    "    ).fetchall() "
   ]
  },
  {
   "cell_type": "code",
   "execution_count": null,
   "metadata": {},
   "outputs": [],
   "source": [
    "\n",
    "def get_linked_entities(entities:dict, already_imported:list = []):\n",
    "    linked_entities = {}\n",
    "    both_searches = []\n",
    "    primary_searches = []\n",
    "    \n",
    "    for entity in entities:\n",
    "        e = entities[entity]\n",
    "        try:\n",
    "            if e.primary_type in ['company', 'contract']:\n",
    "                both_searches.append(f\"{e.index_type}-{e.index_value}\")\n",
    "            else:\n",
    "                primary_searches.append(f\"{e.index_type}-{e.index_value}\")\n",
    "        except Exception as ex:\n",
    "            print(ex)\n",
    "            print(e)\n",
    "    bs = pd.DataFrame(data=both_searches, columns=['idx']).drop_duplicates()\n",
    "    ps = pd.DataFrame(data=primary_searches, columns=['idx']).drop_duplicates()\n",
    "    aie = pd.DataFrame(data=already_imported, columns = ['already_imported'])\n",
    "    \n",
    "    both_results = duck.sql(f\"\"\" \n",
    "        SELECT DISTINCT \n",
    "            e.*, \n",
    "            pri.name as link_to, \n",
    "            pri.entity_type as primary_type \n",
    "        FROM \n",
    "            entities e\n",
    "        JOIN \n",
    "            entities pri \n",
    "        ON \n",
    "            e.index_type = pri.index_type\n",
    "            AND e.index_value = pri.index_value\n",
    "            AND pri.is_primary = 1\n",
    "        WHERE\n",
    "            e.id not in (SELECT already_imported FROM aie) \n",
    "            AND CONCAT(e.index_type, '-', e.index_value) IN (SELECT idx FROM bs)\n",
    "    \"\"\").fetchall()\n",
    "    \n",
    "    primary_results = duck.sql(f\"\"\" \n",
    "        SELECT DISTINCT \n",
    "            e.*, \n",
    "            pri.name as link_to, \n",
    "            pri.entity_type as primary_type \n",
    "        FROM \n",
    "            entities e\n",
    "        JOIN \n",
    "            entities pri \n",
    "        ON \n",
    "            e.index_type = pri.index_type\n",
    "            AND e.index_value = pri.index_value\n",
    "            AND pri.is_primary = 1\n",
    "        WHERE\n",
    "            e.id not in (SELECT already_imported FROM aie) \n",
    "            AND CONCAT(e.index_type, '-', e.index_value) IN (SELECT idx FROM bs)\n",
    "            AND e.is_primary = 1\n",
    "    \"\"\").fetchall()\n",
    "    \n",
    "    linked_entities = {}\n",
    "    for r in both_results:\n",
    "        e = Entity(*r)\n",
    "        linked_entities[e.id] = e \n",
    "    \n",
    "    for r in primary_results:\n",
    "        e = Entity(*r)\n",
    "        linked_entities[e.id] = e \n",
    "        \n",
    "    return linked_entities"
   ]
  },
  {
   "cell_type": "code",
   "execution_count": null,
   "metadata": {},
   "outputs": [],
   "source": [
    "entities = get_entities(name=\"FRIENDS OF GEORGE A. CARDENAS\", street=None, file_number = None, search_types=['campaigns'], manual_override=True)"
   ]
  },
  {
   "cell_type": "code",
   "execution_count": null,
   "metadata": {},
   "outputs": [],
   "source": [
    "linked_entities = get_linked_entities(entities)"
   ]
  },
  {
   "cell_type": "code",
   "execution_count": null,
   "metadata": {},
   "outputs": [],
   "source": [
    "exp_entities = expand_nodes(G, list(G.nodes()))"
   ]
  },
  {
   "cell_type": "code",
   "execution_count": null,
   "metadata": {},
   "outputs": [],
   "source": [
    "len(G)"
   ]
  },
  {
   "cell_type": "code",
   "execution_count": null,
   "metadata": {},
   "outputs": [],
   "source": [
    "detailed = [ n[0] for n in G.nodes(data='details', default=None) if n[1] is not None]\n",
    "detailed"
   ]
  },
  {
   "cell_type": "code",
   "execution_count": null,
   "metadata": {},
   "outputs": [],
   "source": [
    "G.nodes['OGDEN CONST & RELIABLE ASPHALT']\t"
   ]
  },
  {
   "cell_type": "code",
   "execution_count": 4,
   "metadata": {},
   "outputs": [],
   "source": [
    "# G = load_graph('asphalt companies with city contracts.qng').multigraph()\n",
    "G = load_graph('quick_network_graph(37).qng').multigraph()\n",
    "def parse_amounts(G):\n",
    "    amount_fields = {\n",
    "        \"contract\": \"award_amount\", \n",
    "        \"donation\": \"amount\"\n",
    "    }\n",
    "\n",
    "    for u, v in G.edges():\n",
    "        links = G[u][v]\n",
    "        for link in links:\n",
    "            details_string = G[u][v][link].get('details', '{}')\n",
    "            details = json.loads(details_string)\n",
    "            amount_field = amount_fields.get(G[u][v][link]['type'], \"no_amount\")\n",
    "            link_size = int(float(details.get(amount_field, 1)))\n",
    "            G[u][v][link]['size'] = link_size\n",
    "            G.nodes[v]['size'] = G.nodes[v].get('size', 1) + link_size\n",
    "            G.nodes[u]['size'] = G.nodes[u].get('size', 1) + link_size\n",
    "    return G\n",
    "    "
   ]
  },
  {
   "cell_type": "code",
   "execution_count": 5,
   "metadata": {},
   "outputs": [],
   "source": [
    "G1 = parse_amounts(G)"
   ]
  },
  {
   "cell_type": "code",
   "execution_count": null,
   "metadata": {},
   "outputs": [],
   "source": []
  },
  {
   "cell_type": "code",
   "execution_count": null,
   "metadata": {},
   "outputs": [],
   "source": [
    "# large_layout = {\n",
    "#         \"adjustSizes\": False,\n",
    "#         # \"barnesHutOptimize\": True,\n",
    "#         # \"barnesHutTheta\":3,\n",
    "#         \"linLogMode\" :False,\n",
    "#         \"StrongGravityMode\": True,\n",
    "#         \"edgeWeightInfluence\":5,\n",
    "#         \"gravity\":.5,\n",
    "#         \"outboundAttractionDistribution\": False, \n",
    "#         \"scalingRatio\": .5\n",
    "# }\n",
    "# SF = SigmaFactory(layout_settings=large_layout, clickable_edges=True, edge_size='size', node_size='size', node_size_range=(3,40))\n",
    "# viz = SF.make_sigma(G1) \n",
    "# viz"
   ]
  },
  {
   "cell_type": "code",
   "execution_count": 27,
   "metadata": {},
   "outputs": [
    {
     "data": {
      "application/vnd.jupyter.widget-view+json": {
       "model_id": "95427a22d41e4bd5b91079fca70845ff",
       "version_major": 2,
       "version_minor": 0
      },
      "text/plain": [
       "Sigma(nx.MultiDiGraph with 2,698 nodes and 5,239 edges)"
      ]
     },
     "execution_count": 27,
     "metadata": {},
     "output_type": "execute_result"
    }
   ],
   "source": [
    "large_layout = {\n",
    "        # \"adjustSizes\": True,\n",
    "        # \"barnesHutOptimize\": False,\n",
    "        # \"barnesHutTheta\":1.2,\n",
    "        # \"StrongGravityMode\": False,\n",
    "        # \"edgeWeightInfluence\":.5,\n",
    "        # \"scalingRatio\": .5, \n",
    "        \"gravity\":.2,\n",
    "        \"outboundAttractionDistribution\": True\n",
    "}\n",
    "Sigma(\n",
    "        G1, \n",
    "        # height = self.height,\n",
    "        layout_settings = large_layout, \n",
    "        node_size =             'size',\n",
    "        edge_size =             'size',\n",
    "        # node_size_scale =       (\"pow\", 2),\n",
    "        # edge_size_scale =       'log+1',\n",
    "        # edge_weight =           'size',\n",
    "        edge_size_range=        (1, 15),\n",
    "        # default_edge_color =    self.default_edge_color,\n",
    "        clickable_edges =       True,\n",
    "        # camera_state =          self.camera_state if len(camera_state) == 0 else camera_state,\n",
    "        # node_size =             self.node_size if self.node_size else G.degree,\n",
    "        # node_size_range =       self.node_size_range, \n",
    "        node_color =            \"type\",\n",
    "        # node_color_palette=     node_colors,\n",
    "        # selected_node=          self.selected_node,\n",
    "        # layout =                self.layout if layout is None else layout,\n",
    "        raw_node_border_color = \"#FFFFFF\",\n",
    "        raw_node_border_ratio =  \".01\",\n",
    "        node_zindex =           lambda n: 1/G.nodes[n]['size'], \n",
    "        start_layout =          (len(G1) / 10 )\n",
    ") "
   ]
  },
  {
   "cell_type": "code",
   "execution_count": null,
   "metadata": {},
   "outputs": [],
   "source": []
  }
 ],
 "metadata": {
  "kernelspec": {
   "display_name": "Python 3",
   "language": "python",
   "name": "python3"
  },
  "language_info": {
   "codemirror_mode": {
    "name": "ipython",
    "version": 3
   },
   "file_extension": ".py",
   "mimetype": "text/x-python",
   "name": "python",
   "nbconvert_exporter": "python",
   "pygments_lexer": "ipython3",
   "version": "3.12.1"
  }
 },
 "nbformat": 4,
 "nbformat_minor": 2
}
